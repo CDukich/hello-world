{
 "cells": [
  {
   "cell_type": "markdown",
   "metadata": {},
   "source": [
    "# Christopher's first set operations in python\n",
    "\n",
    "These operations are with [python set data structures](https://docs.python.org/3/tutorial/datastructures.html#sets), and with set operations. It might be worth reading [another tutorial](http://www.python-course.eu/python3_sets_frozensets.php) on this topic."
   ]
  },
  {
   "cell_type": "code",
   "execution_count": 5,
   "metadata": {
    "collapsed": false
   },
   "outputs": [
    {
     "data": {
      "text/plain": [
       "{'cats',\n",
       " 'dogs',\n",
       " 'gerbils',\n",
       " 'guineapigs',\n",
       " 'hamsters',\n",
       " 'parrots',\n",
       " 'pigs',\n",
       " 'rabbits'}"
      ]
     },
     "execution_count": 5,
     "metadata": {},
     "output_type": "execute_result"
    }
   ],
   "source": [
    "pets"
   ]
  },
  {
   "cell_type": "code",
   "execution_count": 6,
   "metadata": {
    "collapsed": true
   },
   "outputs": [],
   "source": [
    "food = {'pigs','rabbits','deer','cows','chickens','guineapigs','sheep','turkey','duck'}"
   ]
  },
  {
   "cell_type": "code",
   "execution_count": 28,
   "metadata": {
    "collapsed": false
   },
   "outputs": [
    {
     "name": "stdout",
     "output_type": "stream",
     "text": [
      "['cats', 'dogs', 'pigs', 'hamsters', 'rabbits', 'guineapigs', 'gerbils', 'parrots', 'dogs']\n",
      "9\n",
      "8\n",
      "['gerbils', 'dogs', 'cats', 'parrots', 'guineapigs', 'hamsters', 'pigs', 'rabbits']\n"
     ]
    }
   ],
   "source": [
    "pets = ['cats','dogs','pigs','hamsters','rabbits','guineapigs','gerbils','parrots', 'dogs']\n",
    "print(pets)\n",
    "print(len(pets))\n",
    "pets = set(pets)\n",
    "print(len(pets))\n",
    "print(list(pets))"
   ]
  },
  {
   "cell_type": "code",
   "execution_count": 27,
   "metadata": {
    "collapsed": false
   },
   "outputs": [
    {
     "name": "stdout",
     "output_type": "stream",
     "text": [
      "8\n",
      "Animals that are both food and pets are:  {'pigs', 'rabbits', 'guineapigs'}\n",
      "Animals that are food but not pets are:  {'duck', 'turkey', 'sheep', 'chickens', 'cows', 'deer'}\n",
      "Animals that are pets but not food are:  {'parrots', 'hamsters', 'gerbils', 'cats', 'dogs'}\n",
      "Animals that are either food or pets are:  {'duck', 'gerbils', 'turkey', 'dogs', 'pigs', 'cats', 'parrots', 'guineapigs', 'sheep', 'hamsters', 'chickens', 'cows', 'deer', 'rabbits'}\n"
     ]
    }
   ],
   "source": [
    "foods = {'pigs','rabbits','deer','cows','chickens','guineapigs','sheep','turkey','duck'}\n",
    "# you have pets .... but it's a set. how do you make it a set? \n",
    "pets = set(pets)\n",
    "print(len(pets))\n",
    "\n",
    "print(\"Animals that are both food and pets are: \", foods & pets)\n",
    "print(\"Animals that are food but not pets are: \", foods - pets)\n",
    "print(\"Animals that are pets but not food are: \", pets - foods)\n",
    "#print(\"Animals that are either food or pets are: \", food ^ pets)\n",
    "\n",
    "print(\"Animals that are either food or pets are: \", foods | pets)\n"
   ]
  },
  {
   "cell_type": "code",
   "execution_count": null,
   "metadata": {
    "collapsed": true
   },
   "outputs": [],
   "source": []
  }
 ],
 "metadata": {
  "kernelspec": {
   "display_name": "Python 3",
   "language": "python",
   "name": "python3"
  },
  "language_info": {
   "codemirror_mode": {
    "name": "ipython",
    "version": 3
   },
   "file_extension": ".py",
   "mimetype": "text/x-python",
   "name": "python",
   "nbconvert_exporter": "python",
   "pygments_lexer": "ipython3",
   "version": "3.5.1"
  }
 },
 "nbformat": 4,
 "nbformat_minor": 0
}
